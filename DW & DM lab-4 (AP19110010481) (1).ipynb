{
 "cells": [
  {
   "cell_type": "code",
   "execution_count": 1,
   "id": "37543c68",
   "metadata": {},
   "outputs": [],
   "source": [
    "import pandas as pd\n",
    "import numpy as np"
   ]
  },
  {
   "cell_type": "code",
   "execution_count": 2,
   "id": "8c7a4af1",
   "metadata": {},
   "outputs": [
    {
     "data": {
      "text/html": [
       "<div>\n",
       "<style scoped>\n",
       "    .dataframe tbody tr th:only-of-type {\n",
       "        vertical-align: middle;\n",
       "    }\n",
       "\n",
       "    .dataframe tbody tr th {\n",
       "        vertical-align: top;\n",
       "    }\n",
       "\n",
       "    .dataframe thead th {\n",
       "        text-align: right;\n",
       "    }\n",
       "</style>\n",
       "<table border=\"1\" class=\"dataframe\">\n",
       "  <thead>\n",
       "    <tr style=\"text-align: right;\">\n",
       "      <th></th>\n",
       "      <th>one</th>\n",
       "      <th>Two</th>\n",
       "      <th>three</th>\n",
       "      <th>four</th>\n",
       "    </tr>\n",
       "  </thead>\n",
       "  <tbody>\n",
       "    <tr>\n",
       "      <th>a</th>\n",
       "      <td>0.303722</td>\n",
       "      <td>-0.384010</td>\n",
       "      <td>-1.197216</td>\n",
       "      <td>0.031934</td>\n",
       "    </tr>\n",
       "    <tr>\n",
       "      <th>c</th>\n",
       "      <td>0.284473</td>\n",
       "      <td>-0.105120</td>\n",
       "      <td>0.606443</td>\n",
       "      <td>1.933505</td>\n",
       "    </tr>\n",
       "    <tr>\n",
       "      <th>e</th>\n",
       "      <td>-1.868482</td>\n",
       "      <td>0.856232</td>\n",
       "      <td>-1.268392</td>\n",
       "      <td>-1.784590</td>\n",
       "    </tr>\n",
       "    <tr>\n",
       "      <th>g</th>\n",
       "      <td>-0.389081</td>\n",
       "      <td>0.173858</td>\n",
       "      <td>-1.658579</td>\n",
       "      <td>0.570900</td>\n",
       "    </tr>\n",
       "    <tr>\n",
       "      <th>i</th>\n",
       "      <td>-0.901514</td>\n",
       "      <td>-1.256472</td>\n",
       "      <td>1.211077</td>\n",
       "      <td>-0.450089</td>\n",
       "    </tr>\n",
       "    <tr>\n",
       "      <th>j</th>\n",
       "      <td>-1.593723</td>\n",
       "      <td>-0.515508</td>\n",
       "      <td>-0.759408</td>\n",
       "      <td>0.745431</td>\n",
       "    </tr>\n",
       "  </tbody>\n",
       "</table>\n",
       "</div>"
      ],
      "text/plain": [
       "        one       Two     three      four\n",
       "a  0.303722 -0.384010 -1.197216  0.031934\n",
       "c  0.284473 -0.105120  0.606443  1.933505\n",
       "e -1.868482  0.856232 -1.268392 -1.784590\n",
       "g -0.389081  0.173858 -1.658579  0.570900\n",
       "i -0.901514 -1.256472  1.211077 -0.450089\n",
       "j -1.593723 -0.515508 -0.759408  0.745431"
      ]
     },
     "execution_count": 2,
     "metadata": {},
     "output_type": "execute_result"
    }
   ],
   "source": [
    "df4 = pd.DataFrame(np.random.randn(6,4),index = ['a','c','e','g','i','j'],columns = [\"one\",\"Two\",\"three\",\"four\"],)\n",
    "df4"
   ]
  },
  {
   "cell_type": "code",
   "execution_count": 3,
   "id": "245db917",
   "metadata": {},
   "outputs": [
    {
     "data": {
      "text/html": [
       "<div>\n",
       "<style scoped>\n",
       "    .dataframe tbody tr th:only-of-type {\n",
       "        vertical-align: middle;\n",
       "    }\n",
       "\n",
       "    .dataframe tbody tr th {\n",
       "        vertical-align: top;\n",
       "    }\n",
       "\n",
       "    .dataframe thead th {\n",
       "        text-align: right;\n",
       "    }\n",
       "</style>\n",
       "<table border=\"1\" class=\"dataframe\">\n",
       "  <thead>\n",
       "    <tr style=\"text-align: right;\">\n",
       "      <th></th>\n",
       "      <th>one</th>\n",
       "      <th>Two</th>\n",
       "      <th>three</th>\n",
       "      <th>four</th>\n",
       "    </tr>\n",
       "  </thead>\n",
       "  <tbody>\n",
       "    <tr>\n",
       "      <th>a</th>\n",
       "      <td>0.303722</td>\n",
       "      <td>-0.384010</td>\n",
       "      <td>-1.197216</td>\n",
       "      <td>0.031934</td>\n",
       "    </tr>\n",
       "    <tr>\n",
       "      <th>b</th>\n",
       "      <td>NaN</td>\n",
       "      <td>NaN</td>\n",
       "      <td>NaN</td>\n",
       "      <td>NaN</td>\n",
       "    </tr>\n",
       "    <tr>\n",
       "      <th>c</th>\n",
       "      <td>0.284473</td>\n",
       "      <td>-0.105120</td>\n",
       "      <td>0.606443</td>\n",
       "      <td>1.933505</td>\n",
       "    </tr>\n",
       "    <tr>\n",
       "      <th>d</th>\n",
       "      <td>NaN</td>\n",
       "      <td>NaN</td>\n",
       "      <td>NaN</td>\n",
       "      <td>NaN</td>\n",
       "    </tr>\n",
       "    <tr>\n",
       "      <th>e</th>\n",
       "      <td>-1.868482</td>\n",
       "      <td>0.856232</td>\n",
       "      <td>-1.268392</td>\n",
       "      <td>-1.784590</td>\n",
       "    </tr>\n",
       "    <tr>\n",
       "      <th>f</th>\n",
       "      <td>NaN</td>\n",
       "      <td>NaN</td>\n",
       "      <td>NaN</td>\n",
       "      <td>NaN</td>\n",
       "    </tr>\n",
       "    <tr>\n",
       "      <th>g</th>\n",
       "      <td>-0.389081</td>\n",
       "      <td>0.173858</td>\n",
       "      <td>-1.658579</td>\n",
       "      <td>0.570900</td>\n",
       "    </tr>\n",
       "    <tr>\n",
       "      <th>h</th>\n",
       "      <td>NaN</td>\n",
       "      <td>NaN</td>\n",
       "      <td>NaN</td>\n",
       "      <td>NaN</td>\n",
       "    </tr>\n",
       "    <tr>\n",
       "      <th>i</th>\n",
       "      <td>-0.901514</td>\n",
       "      <td>-1.256472</td>\n",
       "      <td>1.211077</td>\n",
       "      <td>-0.450089</td>\n",
       "    </tr>\n",
       "    <tr>\n",
       "      <th>j</th>\n",
       "      <td>-1.593723</td>\n",
       "      <td>-0.515508</td>\n",
       "      <td>-0.759408</td>\n",
       "      <td>0.745431</td>\n",
       "    </tr>\n",
       "  </tbody>\n",
       "</table>\n",
       "</div>"
      ],
      "text/plain": [
       "        one       Two     three      four\n",
       "a  0.303722 -0.384010 -1.197216  0.031934\n",
       "b       NaN       NaN       NaN       NaN\n",
       "c  0.284473 -0.105120  0.606443  1.933505\n",
       "d       NaN       NaN       NaN       NaN\n",
       "e -1.868482  0.856232 -1.268392 -1.784590\n",
       "f       NaN       NaN       NaN       NaN\n",
       "g -0.389081  0.173858 -1.658579  0.570900\n",
       "h       NaN       NaN       NaN       NaN\n",
       "i -0.901514 -1.256472  1.211077 -0.450089\n",
       "j -1.593723 -0.515508 -0.759408  0.745431"
      ]
     },
     "execution_count": 3,
     "metadata": {},
     "output_type": "execute_result"
    }
   ],
   "source": [
    "df4 = df4.reindex(['a','b','c','d','e','f','g','h','i','j'])\n",
    "\n",
    "df4"
   ]
  },
  {
   "cell_type": "code",
   "execution_count": 4,
   "id": "cdf81b79",
   "metadata": {},
   "outputs": [
    {
     "data": {
      "text/plain": [
       "one      4\n",
       "Two      4\n",
       "three    4\n",
       "four     4\n",
       "dtype: int64"
      ]
     },
     "execution_count": 4,
     "metadata": {},
     "output_type": "execute_result"
    }
   ],
   "source": [
    "df4.isnull().sum()"
   ]
  },
  {
   "cell_type": "markdown",
   "id": "1c0f139c",
   "metadata": {},
   "source": [
    "Ignore the tuple :- if we have max number of null valuse we can ignore the tuple.\n",
    "\n",
    "           by droping the null values .\n",
    "\n",
    "           syntax :- df.dropna()"
   ]
  },
  {
   "cell_type": "code",
   "execution_count": 5,
   "id": "15fcf63f",
   "metadata": {},
   "outputs": [
    {
     "data": {
      "text/html": [
       "<div>\n",
       "<style scoped>\n",
       "    .dataframe tbody tr th:only-of-type {\n",
       "        vertical-align: middle;\n",
       "    }\n",
       "\n",
       "    .dataframe tbody tr th {\n",
       "        vertical-align: top;\n",
       "    }\n",
       "\n",
       "    .dataframe thead th {\n",
       "        text-align: right;\n",
       "    }\n",
       "</style>\n",
       "<table border=\"1\" class=\"dataframe\">\n",
       "  <thead>\n",
       "    <tr style=\"text-align: right;\">\n",
       "      <th></th>\n",
       "      <th>one</th>\n",
       "      <th>Two</th>\n",
       "      <th>three</th>\n",
       "      <th>four</th>\n",
       "    </tr>\n",
       "  </thead>\n",
       "  <tbody>\n",
       "    <tr>\n",
       "      <th>a</th>\n",
       "      <td>0.303722</td>\n",
       "      <td>-0.384010</td>\n",
       "      <td>-1.197216</td>\n",
       "      <td>0.031934</td>\n",
       "    </tr>\n",
       "    <tr>\n",
       "      <th>c</th>\n",
       "      <td>0.284473</td>\n",
       "      <td>-0.105120</td>\n",
       "      <td>0.606443</td>\n",
       "      <td>1.933505</td>\n",
       "    </tr>\n",
       "    <tr>\n",
       "      <th>e</th>\n",
       "      <td>-1.868482</td>\n",
       "      <td>0.856232</td>\n",
       "      <td>-1.268392</td>\n",
       "      <td>-1.784590</td>\n",
       "    </tr>\n",
       "    <tr>\n",
       "      <th>g</th>\n",
       "      <td>-0.389081</td>\n",
       "      <td>0.173858</td>\n",
       "      <td>-1.658579</td>\n",
       "      <td>0.570900</td>\n",
       "    </tr>\n",
       "    <tr>\n",
       "      <th>i</th>\n",
       "      <td>-0.901514</td>\n",
       "      <td>-1.256472</td>\n",
       "      <td>1.211077</td>\n",
       "      <td>-0.450089</td>\n",
       "    </tr>\n",
       "    <tr>\n",
       "      <th>j</th>\n",
       "      <td>-1.593723</td>\n",
       "      <td>-0.515508</td>\n",
       "      <td>-0.759408</td>\n",
       "      <td>0.745431</td>\n",
       "    </tr>\n",
       "  </tbody>\n",
       "</table>\n",
       "</div>"
      ],
      "text/plain": [
       "        one       Two     three      four\n",
       "a  0.303722 -0.384010 -1.197216  0.031934\n",
       "c  0.284473 -0.105120  0.606443  1.933505\n",
       "e -1.868482  0.856232 -1.268392 -1.784590\n",
       "g -0.389081  0.173858 -1.658579  0.570900\n",
       "i -0.901514 -1.256472  1.211077 -0.450089\n",
       "j -1.593723 -0.515508 -0.759408  0.745431"
      ]
     },
     "execution_count": 5,
     "metadata": {},
     "output_type": "execute_result"
    }
   ],
   "source": [
    "d=df4.dropna()\n",
    "d"
   ]
  },
  {
   "cell_type": "code",
   "execution_count": 6,
   "id": "c8e31367",
   "metadata": {},
   "outputs": [
    {
     "data": {
      "text/plain": [
       "one      0\n",
       "Two      0\n",
       "three    0\n",
       "four     0\n",
       "dtype: int64"
      ]
     },
     "execution_count": 6,
     "metadata": {},
     "output_type": "execute_result"
    }
   ],
   "source": [
    "d.isnull().sum()"
   ]
  },
  {
   "cell_type": "markdown",
   "id": "a4e66e65",
   "metadata": {},
   "source": [
    "back word and forword filling :- \n",
    "\n",
    "              we can fill the missing values with previous value as well as backword value."
   ]
  },
  {
   "cell_type": "code",
   "execution_count": 7,
   "id": "ee943828",
   "metadata": {},
   "outputs": [
    {
     "data": {
      "text/html": [
       "<div>\n",
       "<style scoped>\n",
       "    .dataframe tbody tr th:only-of-type {\n",
       "        vertical-align: middle;\n",
       "    }\n",
       "\n",
       "    .dataframe tbody tr th {\n",
       "        vertical-align: top;\n",
       "    }\n",
       "\n",
       "    .dataframe thead th {\n",
       "        text-align: right;\n",
       "    }\n",
       "</style>\n",
       "<table border=\"1\" class=\"dataframe\">\n",
       "  <thead>\n",
       "    <tr style=\"text-align: right;\">\n",
       "      <th></th>\n",
       "      <th>one</th>\n",
       "      <th>Two</th>\n",
       "      <th>three</th>\n",
       "      <th>four</th>\n",
       "    </tr>\n",
       "  </thead>\n",
       "  <tbody>\n",
       "    <tr>\n",
       "      <th>a</th>\n",
       "      <td>0.303722</td>\n",
       "      <td>-0.384010</td>\n",
       "      <td>-1.197216</td>\n",
       "      <td>0.031934</td>\n",
       "    </tr>\n",
       "    <tr>\n",
       "      <th>b</th>\n",
       "      <td>NaN</td>\n",
       "      <td>NaN</td>\n",
       "      <td>NaN</td>\n",
       "      <td>NaN</td>\n",
       "    </tr>\n",
       "    <tr>\n",
       "      <th>c</th>\n",
       "      <td>0.284473</td>\n",
       "      <td>-0.105120</td>\n",
       "      <td>0.606443</td>\n",
       "      <td>1.933505</td>\n",
       "    </tr>\n",
       "    <tr>\n",
       "      <th>d</th>\n",
       "      <td>NaN</td>\n",
       "      <td>NaN</td>\n",
       "      <td>NaN</td>\n",
       "      <td>NaN</td>\n",
       "    </tr>\n",
       "    <tr>\n",
       "      <th>e</th>\n",
       "      <td>-1.868482</td>\n",
       "      <td>0.856232</td>\n",
       "      <td>-1.268392</td>\n",
       "      <td>-1.784590</td>\n",
       "    </tr>\n",
       "    <tr>\n",
       "      <th>f</th>\n",
       "      <td>NaN</td>\n",
       "      <td>NaN</td>\n",
       "      <td>NaN</td>\n",
       "      <td>NaN</td>\n",
       "    </tr>\n",
       "    <tr>\n",
       "      <th>g</th>\n",
       "      <td>-0.389081</td>\n",
       "      <td>0.173858</td>\n",
       "      <td>-1.658579</td>\n",
       "      <td>0.570900</td>\n",
       "    </tr>\n",
       "    <tr>\n",
       "      <th>h</th>\n",
       "      <td>NaN</td>\n",
       "      <td>NaN</td>\n",
       "      <td>NaN</td>\n",
       "      <td>NaN</td>\n",
       "    </tr>\n",
       "    <tr>\n",
       "      <th>i</th>\n",
       "      <td>-0.901514</td>\n",
       "      <td>-1.256472</td>\n",
       "      <td>1.211077</td>\n",
       "      <td>-0.450089</td>\n",
       "    </tr>\n",
       "    <tr>\n",
       "      <th>j</th>\n",
       "      <td>-1.593723</td>\n",
       "      <td>-0.515508</td>\n",
       "      <td>-0.759408</td>\n",
       "      <td>0.745431</td>\n",
       "    </tr>\n",
       "  </tbody>\n",
       "</table>\n",
       "</div>"
      ],
      "text/plain": [
       "        one       Two     three      four\n",
       "a  0.303722 -0.384010 -1.197216  0.031934\n",
       "b       NaN       NaN       NaN       NaN\n",
       "c  0.284473 -0.105120  0.606443  1.933505\n",
       "d       NaN       NaN       NaN       NaN\n",
       "e -1.868482  0.856232 -1.268392 -1.784590\n",
       "f       NaN       NaN       NaN       NaN\n",
       "g -0.389081  0.173858 -1.658579  0.570900\n",
       "h       NaN       NaN       NaN       NaN\n",
       "i -0.901514 -1.256472  1.211077 -0.450089\n",
       "j -1.593723 -0.515508 -0.759408  0.745431"
      ]
     },
     "execution_count": 7,
     "metadata": {},
     "output_type": "execute_result"
    }
   ],
   "source": [
    "df4  # original data set"
   ]
  },
  {
   "cell_type": "code",
   "execution_count": 8,
   "id": "d4fe44da",
   "metadata": {},
   "outputs": [
    {
     "data": {
      "text/plain": [
       "one      4\n",
       "Two      4\n",
       "three    4\n",
       "four     4\n",
       "dtype: int64"
      ]
     },
     "execution_count": 8,
     "metadata": {},
     "output_type": "execute_result"
    }
   ],
   "source": [
    "df4.isnull().sum()"
   ]
  },
  {
   "cell_type": "code",
   "execution_count": 9,
   "id": "e9846067",
   "metadata": {},
   "outputs": [
    {
     "data": {
      "text/html": [
       "<div>\n",
       "<style scoped>\n",
       "    .dataframe tbody tr th:only-of-type {\n",
       "        vertical-align: middle;\n",
       "    }\n",
       "\n",
       "    .dataframe tbody tr th {\n",
       "        vertical-align: top;\n",
       "    }\n",
       "\n",
       "    .dataframe thead th {\n",
       "        text-align: right;\n",
       "    }\n",
       "</style>\n",
       "<table border=\"1\" class=\"dataframe\">\n",
       "  <thead>\n",
       "    <tr style=\"text-align: right;\">\n",
       "      <th></th>\n",
       "      <th>one</th>\n",
       "      <th>Two</th>\n",
       "      <th>three</th>\n",
       "      <th>four</th>\n",
       "    </tr>\n",
       "  </thead>\n",
       "  <tbody>\n",
       "    <tr>\n",
       "      <th>a</th>\n",
       "      <td>0.303722</td>\n",
       "      <td>-0.384010</td>\n",
       "      <td>-1.197216</td>\n",
       "      <td>0.031934</td>\n",
       "    </tr>\n",
       "    <tr>\n",
       "      <th>b</th>\n",
       "      <td>0.303722</td>\n",
       "      <td>-0.384010</td>\n",
       "      <td>-1.197216</td>\n",
       "      <td>0.031934</td>\n",
       "    </tr>\n",
       "    <tr>\n",
       "      <th>c</th>\n",
       "      <td>0.284473</td>\n",
       "      <td>-0.105120</td>\n",
       "      <td>0.606443</td>\n",
       "      <td>1.933505</td>\n",
       "    </tr>\n",
       "    <tr>\n",
       "      <th>d</th>\n",
       "      <td>0.284473</td>\n",
       "      <td>-0.105120</td>\n",
       "      <td>0.606443</td>\n",
       "      <td>1.933505</td>\n",
       "    </tr>\n",
       "    <tr>\n",
       "      <th>e</th>\n",
       "      <td>-1.868482</td>\n",
       "      <td>0.856232</td>\n",
       "      <td>-1.268392</td>\n",
       "      <td>-1.784590</td>\n",
       "    </tr>\n",
       "    <tr>\n",
       "      <th>f</th>\n",
       "      <td>-1.868482</td>\n",
       "      <td>0.856232</td>\n",
       "      <td>-1.268392</td>\n",
       "      <td>-1.784590</td>\n",
       "    </tr>\n",
       "    <tr>\n",
       "      <th>g</th>\n",
       "      <td>-0.389081</td>\n",
       "      <td>0.173858</td>\n",
       "      <td>-1.658579</td>\n",
       "      <td>0.570900</td>\n",
       "    </tr>\n",
       "    <tr>\n",
       "      <th>h</th>\n",
       "      <td>-0.389081</td>\n",
       "      <td>0.173858</td>\n",
       "      <td>-1.658579</td>\n",
       "      <td>0.570900</td>\n",
       "    </tr>\n",
       "    <tr>\n",
       "      <th>i</th>\n",
       "      <td>-0.901514</td>\n",
       "      <td>-1.256472</td>\n",
       "      <td>1.211077</td>\n",
       "      <td>-0.450089</td>\n",
       "    </tr>\n",
       "    <tr>\n",
       "      <th>j</th>\n",
       "      <td>-1.593723</td>\n",
       "      <td>-0.515508</td>\n",
       "      <td>-0.759408</td>\n",
       "      <td>0.745431</td>\n",
       "    </tr>\n",
       "  </tbody>\n",
       "</table>\n",
       "</div>"
      ],
      "text/plain": [
       "        one       Two     three      four\n",
       "a  0.303722 -0.384010 -1.197216  0.031934\n",
       "b  0.303722 -0.384010 -1.197216  0.031934\n",
       "c  0.284473 -0.105120  0.606443  1.933505\n",
       "d  0.284473 -0.105120  0.606443  1.933505\n",
       "e -1.868482  0.856232 -1.268392 -1.784590\n",
       "f -1.868482  0.856232 -1.268392 -1.784590\n",
       "g -0.389081  0.173858 -1.658579  0.570900\n",
       "h -0.389081  0.173858 -1.658579  0.570900\n",
       "i -0.901514 -1.256472  1.211077 -0.450089\n",
       "j -1.593723 -0.515508 -0.759408  0.745431"
      ]
     },
     "execution_count": 9,
     "metadata": {},
     "output_type": "execute_result"
    }
   ],
   "source": [
    "f=df4.ffill() # previouse value\n",
    "f"
   ]
  },
  {
   "cell_type": "code",
   "execution_count": 10,
   "id": "4d3492aa",
   "metadata": {},
   "outputs": [
    {
     "data": {
      "text/plain": [
       "one      0\n",
       "Two      0\n",
       "three    0\n",
       "four     0\n",
       "dtype: int64"
      ]
     },
     "execution_count": 10,
     "metadata": {},
     "output_type": "execute_result"
    }
   ],
   "source": [
    "f.isnull().sum()"
   ]
  },
  {
   "cell_type": "code",
   "execution_count": 11,
   "id": "53a16969",
   "metadata": {},
   "outputs": [
    {
     "data": {
      "text/html": [
       "<div>\n",
       "<style scoped>\n",
       "    .dataframe tbody tr th:only-of-type {\n",
       "        vertical-align: middle;\n",
       "    }\n",
       "\n",
       "    .dataframe tbody tr th {\n",
       "        vertical-align: top;\n",
       "    }\n",
       "\n",
       "    .dataframe thead th {\n",
       "        text-align: right;\n",
       "    }\n",
       "</style>\n",
       "<table border=\"1\" class=\"dataframe\">\n",
       "  <thead>\n",
       "    <tr style=\"text-align: right;\">\n",
       "      <th></th>\n",
       "      <th>one</th>\n",
       "      <th>Two</th>\n",
       "      <th>three</th>\n",
       "      <th>four</th>\n",
       "    </tr>\n",
       "  </thead>\n",
       "  <tbody>\n",
       "    <tr>\n",
       "      <th>a</th>\n",
       "      <td>0.303722</td>\n",
       "      <td>-0.384010</td>\n",
       "      <td>-1.197216</td>\n",
       "      <td>0.031934</td>\n",
       "    </tr>\n",
       "    <tr>\n",
       "      <th>b</th>\n",
       "      <td>0.284473</td>\n",
       "      <td>-0.105120</td>\n",
       "      <td>0.606443</td>\n",
       "      <td>1.933505</td>\n",
       "    </tr>\n",
       "    <tr>\n",
       "      <th>c</th>\n",
       "      <td>0.284473</td>\n",
       "      <td>-0.105120</td>\n",
       "      <td>0.606443</td>\n",
       "      <td>1.933505</td>\n",
       "    </tr>\n",
       "    <tr>\n",
       "      <th>d</th>\n",
       "      <td>-1.868482</td>\n",
       "      <td>0.856232</td>\n",
       "      <td>-1.268392</td>\n",
       "      <td>-1.784590</td>\n",
       "    </tr>\n",
       "    <tr>\n",
       "      <th>e</th>\n",
       "      <td>-1.868482</td>\n",
       "      <td>0.856232</td>\n",
       "      <td>-1.268392</td>\n",
       "      <td>-1.784590</td>\n",
       "    </tr>\n",
       "    <tr>\n",
       "      <th>f</th>\n",
       "      <td>-0.389081</td>\n",
       "      <td>0.173858</td>\n",
       "      <td>-1.658579</td>\n",
       "      <td>0.570900</td>\n",
       "    </tr>\n",
       "    <tr>\n",
       "      <th>g</th>\n",
       "      <td>-0.389081</td>\n",
       "      <td>0.173858</td>\n",
       "      <td>-1.658579</td>\n",
       "      <td>0.570900</td>\n",
       "    </tr>\n",
       "    <tr>\n",
       "      <th>h</th>\n",
       "      <td>-0.901514</td>\n",
       "      <td>-1.256472</td>\n",
       "      <td>1.211077</td>\n",
       "      <td>-0.450089</td>\n",
       "    </tr>\n",
       "    <tr>\n",
       "      <th>i</th>\n",
       "      <td>-0.901514</td>\n",
       "      <td>-1.256472</td>\n",
       "      <td>1.211077</td>\n",
       "      <td>-0.450089</td>\n",
       "    </tr>\n",
       "    <tr>\n",
       "      <th>j</th>\n",
       "      <td>-1.593723</td>\n",
       "      <td>-0.515508</td>\n",
       "      <td>-0.759408</td>\n",
       "      <td>0.745431</td>\n",
       "    </tr>\n",
       "  </tbody>\n",
       "</table>\n",
       "</div>"
      ],
      "text/plain": [
       "        one       Two     three      four\n",
       "a  0.303722 -0.384010 -1.197216  0.031934\n",
       "b  0.284473 -0.105120  0.606443  1.933505\n",
       "c  0.284473 -0.105120  0.606443  1.933505\n",
       "d -1.868482  0.856232 -1.268392 -1.784590\n",
       "e -1.868482  0.856232 -1.268392 -1.784590\n",
       "f -0.389081  0.173858 -1.658579  0.570900\n",
       "g -0.389081  0.173858 -1.658579  0.570900\n",
       "h -0.901514 -1.256472  1.211077 -0.450089\n",
       "i -0.901514 -1.256472  1.211077 -0.450089\n",
       "j -1.593723 -0.515508 -0.759408  0.745431"
      ]
     },
     "execution_count": 11,
     "metadata": {},
     "output_type": "execute_result"
    }
   ],
   "source": [
    "b=df4.bfill() # backword value\n",
    "b"
   ]
  },
  {
   "cell_type": "code",
   "execution_count": 12,
   "id": "bbde17b1",
   "metadata": {},
   "outputs": [
    {
     "data": {
      "text/plain": [
       "one      0\n",
       "Two      0\n",
       "three    0\n",
       "four     0\n",
       "dtype: int64"
      ]
     },
     "execution_count": 12,
     "metadata": {},
     "output_type": "execute_result"
    }
   ],
   "source": [
    "b.isnull().sum()"
   ]
  },
  {
   "cell_type": "markdown",
   "id": "a11dc2cd",
   "metadata": {},
   "source": [
    "Filling the missing values global constant :-\n",
    "\n",
    "                     fill the values with global constant\n",
    "                     .\n",
    "\n",
    "               syntax :- dataset.fillna()"
   ]
  },
  {
   "cell_type": "code",
   "execution_count": 13,
   "id": "9c5492b0",
   "metadata": {},
   "outputs": [
    {
     "data": {
      "text/html": [
       "<div>\n",
       "<style scoped>\n",
       "    .dataframe tbody tr th:only-of-type {\n",
       "        vertical-align: middle;\n",
       "    }\n",
       "\n",
       "    .dataframe tbody tr th {\n",
       "        vertical-align: top;\n",
       "    }\n",
       "\n",
       "    .dataframe thead th {\n",
       "        text-align: right;\n",
       "    }\n",
       "</style>\n",
       "<table border=\"1\" class=\"dataframe\">\n",
       "  <thead>\n",
       "    <tr style=\"text-align: right;\">\n",
       "      <th></th>\n",
       "      <th>one</th>\n",
       "      <th>Two</th>\n",
       "      <th>three</th>\n",
       "      <th>four</th>\n",
       "    </tr>\n",
       "  </thead>\n",
       "  <tbody>\n",
       "    <tr>\n",
       "      <th>a</th>\n",
       "      <td>0.303722</td>\n",
       "      <td>-0.38401</td>\n",
       "      <td>-1.197216</td>\n",
       "      <td>0.031934</td>\n",
       "    </tr>\n",
       "    <tr>\n",
       "      <th>b</th>\n",
       "      <td>7</td>\n",
       "      <td>7</td>\n",
       "      <td>7</td>\n",
       "      <td>7</td>\n",
       "    </tr>\n",
       "    <tr>\n",
       "      <th>c</th>\n",
       "      <td>0.284473</td>\n",
       "      <td>-0.10512</td>\n",
       "      <td>0.606443</td>\n",
       "      <td>1.933505</td>\n",
       "    </tr>\n",
       "    <tr>\n",
       "      <th>d</th>\n",
       "      <td>7</td>\n",
       "      <td>7</td>\n",
       "      <td>7</td>\n",
       "      <td>7</td>\n",
       "    </tr>\n",
       "    <tr>\n",
       "      <th>e</th>\n",
       "      <td>-1.868482</td>\n",
       "      <td>0.856232</td>\n",
       "      <td>-1.268392</td>\n",
       "      <td>-1.78459</td>\n",
       "    </tr>\n",
       "    <tr>\n",
       "      <th>f</th>\n",
       "      <td>7</td>\n",
       "      <td>7</td>\n",
       "      <td>7</td>\n",
       "      <td>7</td>\n",
       "    </tr>\n",
       "    <tr>\n",
       "      <th>g</th>\n",
       "      <td>-0.389081</td>\n",
       "      <td>0.173858</td>\n",
       "      <td>-1.658579</td>\n",
       "      <td>0.5709</td>\n",
       "    </tr>\n",
       "    <tr>\n",
       "      <th>h</th>\n",
       "      <td>7</td>\n",
       "      <td>7</td>\n",
       "      <td>7</td>\n",
       "      <td>7</td>\n",
       "    </tr>\n",
       "    <tr>\n",
       "      <th>i</th>\n",
       "      <td>-0.901514</td>\n",
       "      <td>-1.256472</td>\n",
       "      <td>1.211077</td>\n",
       "      <td>-0.450089</td>\n",
       "    </tr>\n",
       "    <tr>\n",
       "      <th>j</th>\n",
       "      <td>-1.593723</td>\n",
       "      <td>-0.515508</td>\n",
       "      <td>-0.759408</td>\n",
       "      <td>0.745431</td>\n",
       "    </tr>\n",
       "  </tbody>\n",
       "</table>\n",
       "</div>"
      ],
      "text/plain": [
       "        one       Two     three      four\n",
       "a  0.303722  -0.38401 -1.197216  0.031934\n",
       "b         7         7         7         7\n",
       "c  0.284473  -0.10512  0.606443  1.933505\n",
       "d         7         7         7         7\n",
       "e -1.868482  0.856232 -1.268392  -1.78459\n",
       "f         7         7         7         7\n",
       "g -0.389081  0.173858 -1.658579    0.5709\n",
       "h         7         7         7         7\n",
       "i -0.901514 -1.256472  1.211077 -0.450089\n",
       "j -1.593723 -0.515508 -0.759408  0.745431"
      ]
     },
     "execution_count": 13,
     "metadata": {},
     "output_type": "execute_result"
    }
   ],
   "source": [
    "df = df4.fillna(\"7\")   # filling null values with 7\n",
    "df"
   ]
  },
  {
   "cell_type": "code",
   "execution_count": 14,
   "id": "d490adb3",
   "metadata": {},
   "outputs": [
    {
     "data": {
      "text/plain": [
       "one      0\n",
       "Two      0\n",
       "three    0\n",
       "four     0\n",
       "dtype: int64"
      ]
     },
     "execution_count": 14,
     "metadata": {},
     "output_type": "execute_result"
    }
   ],
   "source": [
    "df.isnull().sum()"
   ]
  },
  {
   "cell_type": "markdown",
   "id": "4b7916b3",
   "metadata": {},
   "source": [
    "interpolate :- \n",
    "       \n",
    "       \n",
    "     we guess the middle value between two values."
   ]
  },
  {
   "cell_type": "code",
   "execution_count": 15,
   "id": "dcee2668",
   "metadata": {},
   "outputs": [
    {
     "data": {
      "text/html": [
       "<div>\n",
       "<style scoped>\n",
       "    .dataframe tbody tr th:only-of-type {\n",
       "        vertical-align: middle;\n",
       "    }\n",
       "\n",
       "    .dataframe tbody tr th {\n",
       "        vertical-align: top;\n",
       "    }\n",
       "\n",
       "    .dataframe thead th {\n",
       "        text-align: right;\n",
       "    }\n",
       "</style>\n",
       "<table border=\"1\" class=\"dataframe\">\n",
       "  <thead>\n",
       "    <tr style=\"text-align: right;\">\n",
       "      <th></th>\n",
       "      <th>one</th>\n",
       "      <th>Two</th>\n",
       "      <th>three</th>\n",
       "      <th>four</th>\n",
       "    </tr>\n",
       "  </thead>\n",
       "  <tbody>\n",
       "    <tr>\n",
       "      <th>a</th>\n",
       "      <td>0.303722</td>\n",
       "      <td>-0.384010</td>\n",
       "      <td>-1.197216</td>\n",
       "      <td>0.031934</td>\n",
       "    </tr>\n",
       "    <tr>\n",
       "      <th>b</th>\n",
       "      <td>0.294098</td>\n",
       "      <td>-0.244565</td>\n",
       "      <td>-0.295387</td>\n",
       "      <td>0.982720</td>\n",
       "    </tr>\n",
       "    <tr>\n",
       "      <th>c</th>\n",
       "      <td>0.284473</td>\n",
       "      <td>-0.105120</td>\n",
       "      <td>0.606443</td>\n",
       "      <td>1.933505</td>\n",
       "    </tr>\n",
       "    <tr>\n",
       "      <th>d</th>\n",
       "      <td>-0.792005</td>\n",
       "      <td>0.375556</td>\n",
       "      <td>-0.330975</td>\n",
       "      <td>0.074457</td>\n",
       "    </tr>\n",
       "    <tr>\n",
       "      <th>e</th>\n",
       "      <td>-1.868482</td>\n",
       "      <td>0.856232</td>\n",
       "      <td>-1.268392</td>\n",
       "      <td>-1.784590</td>\n",
       "    </tr>\n",
       "    <tr>\n",
       "      <th>f</th>\n",
       "      <td>-1.128781</td>\n",
       "      <td>0.515045</td>\n",
       "      <td>-1.463485</td>\n",
       "      <td>-0.606845</td>\n",
       "    </tr>\n",
       "    <tr>\n",
       "      <th>g</th>\n",
       "      <td>-0.389081</td>\n",
       "      <td>0.173858</td>\n",
       "      <td>-1.658579</td>\n",
       "      <td>0.570900</td>\n",
       "    </tr>\n",
       "    <tr>\n",
       "      <th>h</th>\n",
       "      <td>-0.645298</td>\n",
       "      <td>-0.541307</td>\n",
       "      <td>-0.223751</td>\n",
       "      <td>0.060405</td>\n",
       "    </tr>\n",
       "    <tr>\n",
       "      <th>i</th>\n",
       "      <td>-0.901514</td>\n",
       "      <td>-1.256472</td>\n",
       "      <td>1.211077</td>\n",
       "      <td>-0.450089</td>\n",
       "    </tr>\n",
       "    <tr>\n",
       "      <th>j</th>\n",
       "      <td>-1.593723</td>\n",
       "      <td>-0.515508</td>\n",
       "      <td>-0.759408</td>\n",
       "      <td>0.745431</td>\n",
       "    </tr>\n",
       "  </tbody>\n",
       "</table>\n",
       "</div>"
      ],
      "text/plain": [
       "        one       Two     three      four\n",
       "a  0.303722 -0.384010 -1.197216  0.031934\n",
       "b  0.294098 -0.244565 -0.295387  0.982720\n",
       "c  0.284473 -0.105120  0.606443  1.933505\n",
       "d -0.792005  0.375556 -0.330975  0.074457\n",
       "e -1.868482  0.856232 -1.268392 -1.784590\n",
       "f -1.128781  0.515045 -1.463485 -0.606845\n",
       "g -0.389081  0.173858 -1.658579  0.570900\n",
       "h -0.645298 -0.541307 -0.223751  0.060405\n",
       "i -0.901514 -1.256472  1.211077 -0.450089\n",
       "j -1.593723 -0.515508 -0.759408  0.745431"
      ]
     },
     "execution_count": 15,
     "metadata": {},
     "output_type": "execute_result"
    }
   ],
   "source": [
    "newdata= df4.interpolate()\n",
    "newdata"
   ]
  },
  {
   "cell_type": "code",
   "execution_count": 16,
   "id": "4ba5fafb",
   "metadata": {},
   "outputs": [
    {
     "data": {
      "text/plain": [
       "one      0\n",
       "Two      0\n",
       "three    0\n",
       "four     0\n",
       "dtype: int64"
      ]
     },
     "execution_count": 16,
     "metadata": {},
     "output_type": "execute_result"
    }
   ],
   "source": [
    "newdata.isnull().sum()"
   ]
  },
  {
   "cell_type": "markdown",
   "id": "4670d8d8",
   "metadata": {},
   "source": [
    "Fill with mean :-\n",
    "            \n",
    "             fill the missing values with mean."
   ]
  },
  {
   "cell_type": "code",
   "execution_count": 17,
   "id": "5d3526bf",
   "metadata": {},
   "outputs": [
    {
     "data": {
      "text/plain": [
       "one     -0.694101\n",
       "Two     -0.205170\n",
       "three   -0.511013\n",
       "four     0.174515\n",
       "dtype: float64"
      ]
     },
     "execution_count": 17,
     "metadata": {},
     "output_type": "execute_result"
    }
   ],
   "source": [
    "dataset=(np.mean(df4))   # this is the mean of the given dataset\n",
    "dataset"
   ]
  },
  {
   "cell_type": "code",
   "execution_count": 18,
   "id": "b5c0c0f6",
   "metadata": {},
   "outputs": [
    {
     "data": {
      "text/html": [
       "<div>\n",
       "<style scoped>\n",
       "    .dataframe tbody tr th:only-of-type {\n",
       "        vertical-align: middle;\n",
       "    }\n",
       "\n",
       "    .dataframe tbody tr th {\n",
       "        vertical-align: top;\n",
       "    }\n",
       "\n",
       "    .dataframe thead th {\n",
       "        text-align: right;\n",
       "    }\n",
       "</style>\n",
       "<table border=\"1\" class=\"dataframe\">\n",
       "  <thead>\n",
       "    <tr style=\"text-align: right;\">\n",
       "      <th></th>\n",
       "      <th>one</th>\n",
       "      <th>Two</th>\n",
       "      <th>three</th>\n",
       "      <th>four</th>\n",
       "    </tr>\n",
       "  </thead>\n",
       "  <tbody>\n",
       "    <tr>\n",
       "      <th>a</th>\n",
       "      <td>0.303722</td>\n",
       "      <td>-0.384010</td>\n",
       "      <td>-1.197216</td>\n",
       "      <td>0.031934</td>\n",
       "    </tr>\n",
       "    <tr>\n",
       "      <th>b</th>\n",
       "      <td>-0.694101</td>\n",
       "      <td>-0.205170</td>\n",
       "      <td>-0.511013</td>\n",
       "      <td>0.174515</td>\n",
       "    </tr>\n",
       "    <tr>\n",
       "      <th>c</th>\n",
       "      <td>0.284473</td>\n",
       "      <td>-0.105120</td>\n",
       "      <td>0.606443</td>\n",
       "      <td>1.933505</td>\n",
       "    </tr>\n",
       "    <tr>\n",
       "      <th>d</th>\n",
       "      <td>-0.694101</td>\n",
       "      <td>-0.205170</td>\n",
       "      <td>-0.511013</td>\n",
       "      <td>0.174515</td>\n",
       "    </tr>\n",
       "    <tr>\n",
       "      <th>e</th>\n",
       "      <td>-1.868482</td>\n",
       "      <td>0.856232</td>\n",
       "      <td>-1.268392</td>\n",
       "      <td>-1.784590</td>\n",
       "    </tr>\n",
       "    <tr>\n",
       "      <th>f</th>\n",
       "      <td>-0.694101</td>\n",
       "      <td>-0.205170</td>\n",
       "      <td>-0.511013</td>\n",
       "      <td>0.174515</td>\n",
       "    </tr>\n",
       "    <tr>\n",
       "      <th>g</th>\n",
       "      <td>-0.389081</td>\n",
       "      <td>0.173858</td>\n",
       "      <td>-1.658579</td>\n",
       "      <td>0.570900</td>\n",
       "    </tr>\n",
       "    <tr>\n",
       "      <th>h</th>\n",
       "      <td>-0.694101</td>\n",
       "      <td>-0.205170</td>\n",
       "      <td>-0.511013</td>\n",
       "      <td>0.174515</td>\n",
       "    </tr>\n",
       "    <tr>\n",
       "      <th>i</th>\n",
       "      <td>-0.901514</td>\n",
       "      <td>-1.256472</td>\n",
       "      <td>1.211077</td>\n",
       "      <td>-0.450089</td>\n",
       "    </tr>\n",
       "    <tr>\n",
       "      <th>j</th>\n",
       "      <td>-1.593723</td>\n",
       "      <td>-0.515508</td>\n",
       "      <td>-0.759408</td>\n",
       "      <td>0.745431</td>\n",
       "    </tr>\n",
       "  </tbody>\n",
       "</table>\n",
       "</div>"
      ],
      "text/plain": [
       "        one       Two     three      four\n",
       "a  0.303722 -0.384010 -1.197216  0.031934\n",
       "b -0.694101 -0.205170 -0.511013  0.174515\n",
       "c  0.284473 -0.105120  0.606443  1.933505\n",
       "d -0.694101 -0.205170 -0.511013  0.174515\n",
       "e -1.868482  0.856232 -1.268392 -1.784590\n",
       "f -0.694101 -0.205170 -0.511013  0.174515\n",
       "g -0.389081  0.173858 -1.658579  0.570900\n",
       "h -0.694101 -0.205170 -0.511013  0.174515\n",
       "i -0.901514 -1.256472  1.211077 -0.450089\n",
       "j -1.593723 -0.515508 -0.759408  0.745431"
      ]
     },
     "execution_count": 18,
     "metadata": {},
     "output_type": "execute_result"
    }
   ],
   "source": [
    "M=df4.fillna(np.mean(df4)) #fill the missing values with mean.\n",
    "M"
   ]
  },
  {
   "cell_type": "code",
   "execution_count": 19,
   "id": "76bab05e",
   "metadata": {},
   "outputs": [
    {
     "data": {
      "text/plain": [
       "one      4\n",
       "Two      4\n",
       "three    4\n",
       "four     4\n",
       "dtype: int64"
      ]
     },
     "execution_count": 19,
     "metadata": {},
     "output_type": "execute_result"
    }
   ],
   "source": [
    "M=df4.isnull().sum()\n",
    "M"
   ]
  },
  {
   "cell_type": "markdown",
   "id": "8a81a4cb",
   "metadata": {},
   "source": [
    "Fill the missing value with median :-"
   ]
  },
  {
   "cell_type": "code",
   "execution_count": 20,
   "id": "603b6166",
   "metadata": {},
   "outputs": [
    {
     "data": {
      "text/plain": [
       "one      0\n",
       "Two      0\n",
       "three    0\n",
       "four     0\n",
       "dtype: int64"
      ]
     },
     "execution_count": 20,
     "metadata": {},
     "output_type": "execute_result"
    }
   ],
   "source": [
    "df5=df4.fillna(df4[\"Two\"].median)\n",
    "df5.isnull().sum()\n"
   ]
  },
  {
   "cell_type": "code",
   "execution_count": null,
   "id": "38260d5c",
   "metadata": {},
   "outputs": [],
   "source": [
    "Replacing with most frequent values :-\n",
    "                     "
   ]
  },
  {
   "cell_type": "code",
   "execution_count": 21,
   "id": "1c1a15d3",
   "metadata": {},
   "outputs": [
    {
     "data": {
      "text/plain": [
       "one      4\n",
       "Two      4\n",
       "three    4\n",
       "four     4\n",
       "dtype: int64"
      ]
     },
     "execution_count": 21,
     "metadata": {},
     "output_type": "execute_result"
    }
   ],
   "source": [
    "df4.isnull().sum()"
   ]
  },
  {
   "cell_type": "code",
   "execution_count": 22,
   "id": "13ff6b2c",
   "metadata": {},
   "outputs": [
    {
     "data": {
      "text/plain": [
       "-0.901514    1\n",
       "-1.868482    1\n",
       "-0.389081    1\n",
       "-1.593723    1\n",
       " 0.303722    1\n",
       " 0.284473    1\n",
       "Name: one, dtype: int64"
      ]
     },
     "execution_count": 22,
     "metadata": {},
     "output_type": "execute_result"
    }
   ],
   "source": [
    "df4['one'].value_counts()  # hence all occur one time so hence no replacing."
   ]
  },
  {
   "cell_type": "code",
   "execution_count": null,
   "id": "d956c159",
   "metadata": {},
   "outputs": [],
   "source": []
  }
 ],
 "metadata": {
  "kernelspec": {
   "display_name": "Python 3",
   "language": "python",
   "name": "python3"
  },
  "language_info": {
   "codemirror_mode": {
    "name": "ipython",
    "version": 3
   },
   "file_extension": ".py",
   "mimetype": "text/x-python",
   "name": "python",
   "nbconvert_exporter": "python",
   "pygments_lexer": "ipython3",
   "version": "3.8.8"
  }
 },
 "nbformat": 4,
 "nbformat_minor": 5
}
