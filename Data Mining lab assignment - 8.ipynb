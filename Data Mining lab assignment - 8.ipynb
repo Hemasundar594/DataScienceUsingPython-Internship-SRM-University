{
 "cells": [
  {
   "cell_type": "markdown",
   "id": "30870205",
   "metadata": {},
   "source": [
    "                                               Data Mining\n",
    "                                            Lab Assignment - 8"
   ]
  },
  {
   "cell_type": "markdown",
   "id": "e9a2e2bc",
   "metadata": {},
   "source": [
    "                                                                                           P. Jaswanth roy\n",
    "                                                                                           AP19110010524\n",
    "                                                                                           CSE - H"
   ]
  },
  {
   "cell_type": "code",
   "execution_count": 1,
   "id": "699a276e",
   "metadata": {},
   "outputs": [],
   "source": [
    "import numpy as np \n",
    "import pandas as pd\n",
    "import random\n",
    "from scipy.spatial import distance"
   ]
  },
  {
   "cell_type": "code",
   "execution_count": 3,
   "id": "2c5c1d5e",
   "metadata": {},
   "outputs": [
    {
     "data": {
      "text/html": [
       "<div>\n",
       "<style scoped>\n",
       "    .dataframe tbody tr th:only-of-type {\n",
       "        vertical-align: middle;\n",
       "    }\n",
       "\n",
       "    .dataframe tbody tr th {\n",
       "        vertical-align: top;\n",
       "    }\n",
       "\n",
       "    .dataframe thead th {\n",
       "        text-align: right;\n",
       "    }\n",
       "</style>\n",
       "<table border=\"1\" class=\"dataframe\">\n",
       "  <thead>\n",
       "    <tr style=\"text-align: right;\">\n",
       "      <th></th>\n",
       "      <th>CustomerID</th>\n",
       "      <th>Genre</th>\n",
       "      <th>Age</th>\n",
       "      <th>Annual Income (k$)</th>\n",
       "      <th>Spending Score (1-100)</th>\n",
       "    </tr>\n",
       "  </thead>\n",
       "  <tbody>\n",
       "    <tr>\n",
       "      <th>0</th>\n",
       "      <td>1</td>\n",
       "      <td>Male</td>\n",
       "      <td>15</td>\n",
       "      <td>19</td>\n",
       "      <td>39</td>\n",
       "    </tr>\n",
       "    <tr>\n",
       "      <th>1</th>\n",
       "      <td>2</td>\n",
       "      <td>Male</td>\n",
       "      <td>20</td>\n",
       "      <td>16</td>\n",
       "      <td>85</td>\n",
       "    </tr>\n",
       "    <tr>\n",
       "      <th>2</th>\n",
       "      <td>3</td>\n",
       "      <td>Female</td>\n",
       "      <td>21</td>\n",
       "      <td>15</td>\n",
       "      <td>5</td>\n",
       "    </tr>\n",
       "    <tr>\n",
       "      <th>3</th>\n",
       "      <td>4</td>\n",
       "      <td>Female</td>\n",
       "      <td>23</td>\n",
       "      <td>16</td>\n",
       "      <td>66</td>\n",
       "    </tr>\n",
       "    <tr>\n",
       "      <th>4</th>\n",
       "      <td>5</td>\n",
       "      <td>Female</td>\n",
       "      <td>31</td>\n",
       "      <td>21</td>\n",
       "      <td>41</td>\n",
       "    </tr>\n",
       "  </tbody>\n",
       "</table>\n",
       "</div>"
      ],
      "text/plain": [
       "   CustomerID   Genre  Age  Annual Income (k$)  Spending Score (1-100)\n",
       "0           1    Male   15                  19                      39\n",
       "1           2    Male   20                  16                      85\n",
       "2           3  Female   21                  15                       5\n",
       "3           4  Female   23                  16                      66\n",
       "4           5  Female   31                  21                      41"
      ]
     },
     "execution_count": 3,
     "metadata": {},
     "output_type": "execute_result"
    }
   ],
   "source": [
    "df=pd.read_csv(\"Mall_Customers.csv\")\n",
    "df.head()"
   ]
  },
  {
   "cell_type": "code",
   "execution_count": 4,
   "id": "02a8b964",
   "metadata": {},
   "outputs": [
    {
     "data": {
      "text/plain": [
       "((23, 16, 66), (30, 19, 72))"
      ]
     },
     "execution_count": 4,
     "metadata": {},
     "output_type": "execute_result"
    }
   ],
   "source": [
    "i=random.randint(0,5)\n",
    "j=random.randint(6,10)\n",
    "p1=(df['Age'][i],df['Annual Income (k$)'][i],df['Spending Score (1-100)'][i])\n",
    "p2=(df['Age'][j],df['Annual Income (k$)'][j],df['Spending Score (1-100)'][j])\n",
    "p1,p2"
   ]
  },
  {
   "cell_type": "markdown",
   "id": "77ef40ca",
   "metadata": {},
   "source": [
    "1. Euclidean distance:\n",
    "\n",
    "It is the shortest distance between two points. Many ML algorithms use this distance metric to observe the similarities bitween two pionts. If the distance between two points is less then they are closely related orelse no."
   ]
  },
  {
   "cell_type": "code",
   "execution_count": 5,
   "id": "8b506f61",
   "metadata": {},
   "outputs": [
    {
     "name": "stdout",
     "output_type": "stream",
     "text": [
      "Euclidean distance between  (23, 16, 66)  and (30, 19, 72)  is  9.695359714832659\n"
     ]
    }
   ],
   "source": [
    "E_d=distance.euclidean(p1,p2)\n",
    "print(\"Euclidean distance between \",p1,\" and\",p2,\" is \",E_d)"
   ]
  },
  {
   "cell_type": "markdown",
   "id": "9a4feb87",
   "metadata": {},
   "source": [
    "2. Manhattan Distance:\n",
    "\n",
    " Manhattan Distance is the sum of absolute differences between points across all the dimensions."
   ]
  },
  {
   "cell_type": "code",
   "execution_count": 6,
   "id": "9e64d56b",
   "metadata": {},
   "outputs": [
    {
     "name": "stdout",
     "output_type": "stream",
     "text": [
      "Manhattan distance between  (23, 16, 66)  and (30, 19, 72)  is  16\n"
     ]
    }
   ],
   "source": [
    "M_d=distance.cityblock(p1,p2)\n",
    "print(\"Manhattan distance between \",p1,\" and\",p2,\" is \",M_d)"
   ]
  },
  {
   "cell_type": "markdown",
   "id": "0c5b0c8b",
   "metadata": {},
   "source": [
    "3. Minkowski Distance :\n",
    "\n",
    "Minkowski Distance is the generalized form of Euclidean and Manhattan Distance."
   ]
  },
  {
   "cell_type": "code",
   "execution_count": 7,
   "id": "f6b67933",
   "metadata": {},
   "outputs": [
    {
     "name": "stdout",
     "output_type": "stream",
     "text": [
      "Minkowski distance between  (23, 16, 66)  and (30, 19, 72)  is  9.695359714832659\n"
     ]
    }
   ],
   "source": [
    "Min_d=distance.minkowski(p1,p2)\n",
    "print(\"Minkowski distance between \",p1,\" and\",p2,\" is \",Min_d)"
   ]
  },
  {
   "cell_type": "markdown",
   "id": "e08a8c36",
   "metadata": {},
   "source": [
    "4. Hamming Distance :\n",
    "\n",
    "Hamming Distance measures the similarity between two strings of the same length. The Hamming Distance between two strings of the same length is the number of positions at which the corresponding characters are different."
   ]
  },
  {
   "cell_type": "code",
   "execution_count": 8,
   "id": "1ddfdc6d",
   "metadata": {},
   "outputs": [
    {
     "name": "stdout",
     "output_type": "stream",
     "text": [
      "Hamming distance between  (23, 16, 66)  and (30, 19, 72)  is  1.0\n"
     ]
    }
   ],
   "source": [
    "H_d=distance.hamming(p1,p2)\n",
    "print(\"Hamming distance between \",p1,\" and\",p2,\" is \",H_d)"
   ]
  },
  {
   "cell_type": "code",
   "execution_count": null,
   "id": "2d5fd5cd",
   "metadata": {},
   "outputs": [],
   "source": []
  }
 ],
 "metadata": {
  "kernelspec": {
   "display_name": "Python 3",
   "language": "python",
   "name": "python3"
  },
  "language_info": {
   "codemirror_mode": {
    "name": "ipython",
    "version": 3
   },
   "file_extension": ".py",
   "mimetype": "text/x-python",
   "name": "python",
   "nbconvert_exporter": "python",
   "pygments_lexer": "ipython3",
   "version": "3.8.8"
  }
 },
 "nbformat": 4,
 "nbformat_minor": 5
}
